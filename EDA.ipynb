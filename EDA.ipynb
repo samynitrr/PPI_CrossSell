{
 "cells": [
  {
   "cell_type": "markdown",
   "metadata": {},
   "source": [
    "A consumer bank with a range of products would like to cross-sell insurance to its consumer base (that is, cross-sell the personal protection insurance (PPI) product to those customers who have a secured or unsecured type of loan, but no PPI product as yet). \n",
    "Attached is a sample data set from their customer portfolio containing various fields about their product ownership, credit standing, outstanding amounts, and whether they already have an insurance product (called as PPI / personal protection insurance), if any, the type of PPI product they own.\n",
    "The bank would like to adopt analytics driven approach applied on this sample data for deciding:\n",
    "-\tWho should they target from the pool of customers that currently do not have a PPI, and \n",
    "-\tWhat type of PPI product they should be targeting them with..\n",
    "Using the attached sample data, please come up with your analytics approach, detailing the following in a PowerPoint presentation format:\n",
    "-\tYour understanding of the different data fields \n",
    "\n",
    "Note: No further information is available on data field descriptions etc. You could make smart assumptions about what the fields mean, and call out such assumptions.\n",
    "\n",
    "-\tPresent snippets of the analytics you performed with the data (feel free to build any model / models if you think it is relevant, but you    don’t have to necessarily build a model. We will be interested in the quality of insights you have to provide)\n",
    "\n",
    "-\tHow you would use the results of the analysis in designing a simple, but effective strategy to achieve the goal of cross-sell\n",
    "\n",
    "-\tHow would you measure the improvement driven by the approach?"
   ]
  },
  {
   "cell_type": "code",
   "execution_count": 1,
   "metadata": {},
   "outputs": [],
   "source": [
    "#Importing relevant libraries\n",
    "import numpy as np\n",
    "import pandas as pd\n",
    "import matplotlib.pyplot as plt\n",
    "import seaborn as sns\n",
    "from apyori import apriori\n",
    "from mlxtend.frequent_patterns import  *"
   ]
  },
  {
   "cell_type": "markdown",
   "metadata": {},
   "source": [
    "# Performing Sanity Checks"
   ]
  },
  {
   "cell_type": "code",
   "execution_count": null,
   "metadata": {},
   "outputs": [],
   "source": []
  }
 ],
 "metadata": {
  "kernelspec": {
   "display_name": "Python 3.8.0",
   "language": "python",
   "name": "python3"
  },
  "language_info": {
   "codemirror_mode": {
    "name": "ipython",
    "version": 3
   },
   "file_extension": ".py",
   "mimetype": "text/x-python",
   "name": "python",
   "nbconvert_exporter": "python",
   "pygments_lexer": "ipython3",
   "version": "3.8.0"
  },
  "orig_nbformat": 4,
  "vscode": {
   "interpreter": {
    "hash": "168fa564fbbc2c5628986ebfcf8357ce19ce66247bd86bbc1469e46cfd1df133"
   }
  }
 },
 "nbformat": 4,
 "nbformat_minor": 2
}
